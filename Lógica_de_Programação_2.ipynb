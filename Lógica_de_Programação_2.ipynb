{
  "nbformat": 4,
  "nbformat_minor": 0,
  "metadata": {
    "colab": {
      "name": "Lógica de Programação_2.ipynb",
      "provenance": [],
      "collapsed_sections": [
        "HWKmSExjt5M0",
        "ddPy4Jo6uBNp",
        "A4t_h2Pivd3J",
        "V1DhpJQjyg-v",
        "RhhNrdfaz_q3",
        "Xtg5-guZ2CEM",
        "Gg67D1jH3osG",
        "_ttJuRi25WK4",
        "iSrW3MCx63CW",
        "G7HvORMp9u-i",
        "C7dZUjUOBnvc",
        "m6YmNNLXD9Rp",
        "E7McKUzzHfgy"
      ],
      "authorship_tag": "ABX9TyOWk9NSu5vXEjP2f5JoJ3Nu",
      "include_colab_link": true
    },
    "kernelspec": {
      "name": "python3",
      "display_name": "Python 3"
    },
    "language_info": {
      "name": "python"
    }
  },
  "cells": [
    {
      "cell_type": "markdown",
      "metadata": {
        "id": "view-in-github",
        "colab_type": "text"
      },
      "source": [
        "<a href=\"https://colab.research.google.com/github/antuness/Learning_Python/blob/master/L%C3%B3gica_de_Programa%C3%A7%C3%A3o_2.ipynb\" target=\"_parent\"><img src=\"https://colab.research.google.com/assets/colab-badge.svg\" alt=\"Open In Colab\"/></a>"
      ]
    },
    {
      "cell_type": "markdown",
      "metadata": {
        "id": "HWKmSExjt5M0"
      },
      "source": [
        "#**Geral**"
      ]
    },
    {
      "cell_type": "code",
      "metadata": {
        "colab": {
          "base_uri": "https://localhost:8080/"
        },
        "id": "dXy3N-H1qp-6",
        "outputId": "4eeb43e4-a404-4128-98d0-7e236072bedd"
      },
      "source": [
        "!python -V"
      ],
      "execution_count": 1,
      "outputs": [
        {
          "output_type": "stream",
          "text": [
            "Python 3.7.11\n"
          ],
          "name": "stdout"
        }
      ]
    },
    {
      "cell_type": "code",
      "metadata": {
        "id": "UexTdwD5rmnA"
      },
      "source": [
        "import numpy as np"
      ],
      "execution_count": 2,
      "outputs": []
    },
    {
      "cell_type": "code",
      "metadata": {
        "id": "T2NCDHsJsGBK"
      },
      "source": [
        "km = np.loadtxt('carros-km.txt')"
      ],
      "execution_count": 3,
      "outputs": []
    },
    {
      "cell_type": "code",
      "metadata": {
        "id": "M7yxJ8Bksy_H"
      },
      "source": [
        "anos = np.loadtxt('carros-anos.txt', dtype = int)"
      ],
      "execution_count": 5,
      "outputs": []
    },
    {
      "cell_type": "code",
      "metadata": {
        "colab": {
          "base_uri": "https://localhost:8080/"
        },
        "id": "MdZ2rFF0s0aw",
        "outputId": "459f251d-2ab0-4ed2-94a4-963f32f0add5"
      },
      "source": [
        "km_media = km / (2019 - anos)"
      ],
      "execution_count": 8,
      "outputs": [
        {
          "output_type": "stream",
          "text": [
            "/usr/local/lib/python3.7/dist-packages/ipykernel_launcher.py:1: RuntimeWarning: invalid value encountered in true_divide\n",
            "  \"\"\"Entry point for launching an IPython kernel.\n"
          ],
          "name": "stderr"
        }
      ]
    },
    {
      "cell_type": "code",
      "metadata": {
        "colab": {
          "base_uri": "https://localhost:8080/"
        },
        "id": "ENtvI7vetF-Q",
        "outputId": "c187031b-85aa-4e79-a8e8-25709ea23b73"
      },
      "source": [
        "type(km_media)"
      ],
      "execution_count": 10,
      "outputs": [
        {
          "output_type": "execute_result",
          "data": {
            "text/plain": [
              "numpy.ndarray"
            ]
          },
          "metadata": {},
          "execution_count": 10
        }
      ]
    },
    {
      "cell_type": "markdown",
      "metadata": {
        "id": "ddPy4Jo6uBNp"
      },
      "source": [
        "#**Características Básicas**"
      ]
    },
    {
      "cell_type": "code",
      "metadata": {
        "colab": {
          "base_uri": "https://localhost:8080/"
        },
        "id": "KWwzEQu2tawr",
        "outputId": "9e2f0716-5098-42a6-a094-adafbbda97fa"
      },
      "source": [
        "10 //3"
      ],
      "execution_count": 11,
      "outputs": [
        {
          "output_type": "execute_result",
          "data": {
            "text/plain": [
              "3"
            ]
          },
          "metadata": {},
          "execution_count": 11
        }
      ]
    },
    {
      "cell_type": "code",
      "metadata": {
        "colab": {
          "base_uri": "https://localhost:8080/"
        },
        "id": "IB3FZhGgt86j",
        "outputId": "50120c4f-4e04-4d32-b356-91a607d698c1"
      },
      "source": [
        "2 ** 3"
      ],
      "execution_count": 12,
      "outputs": [
        {
          "output_type": "execute_result",
          "data": {
            "text/plain": [
              "8"
            ]
          },
          "metadata": {},
          "execution_count": 12
        }
      ]
    },
    {
      "cell_type": "code",
      "metadata": {
        "colab": {
          "base_uri": "https://localhost:8080/"
        },
        "id": "u4Npx1JZudjm",
        "outputId": "37e5cbf6-4ffa-45d6-d8d2-5be319c6a1ac"
      },
      "source": [
        "10 % 3"
      ],
      "execution_count": 13,
      "outputs": [
        {
          "output_type": "execute_result",
          "data": {
            "text/plain": [
              "1"
            ]
          },
          "metadata": {},
          "execution_count": 13
        }
      ]
    },
    {
      "cell_type": "code",
      "metadata": {
        "colab": {
          "base_uri": "https://localhost:8080/"
        },
        "id": "9PX9ygQTugzc",
        "outputId": "179b0002-ca18-4bbf-aa36-987810cdf002"
      },
      "source": [
        "10 % 2"
      ],
      "execution_count": 14,
      "outputs": [
        {
          "output_type": "execute_result",
          "data": {
            "text/plain": [
              "0"
            ]
          },
          "metadata": {},
          "execution_count": 14
        }
      ]
    },
    {
      "cell_type": "code",
      "metadata": {
        "colab": {
          "base_uri": "https://localhost:8080/"
        },
        "id": "zN2-n3CfukGT",
        "outputId": "3a0743dd-5205-4be3-d65f-88318fe960c9"
      },
      "source": [
        "5 * 2 + 3 * 2"
      ],
      "execution_count": 15,
      "outputs": [
        {
          "output_type": "execute_result",
          "data": {
            "text/plain": [
              "16"
            ]
          },
          "metadata": {},
          "execution_count": 15
        }
      ]
    },
    {
      "cell_type": "code",
      "metadata": {
        "colab": {
          "base_uri": "https://localhost:8080/"
        },
        "id": "OGUmbLXluqpj",
        "outputId": "b8ee82ea-f7b3-4ef0-9b6b-133e96a57cf9"
      },
      "source": [
        "(5 * 2) + (3 * 2)"
      ],
      "execution_count": 16,
      "outputs": [
        {
          "output_type": "execute_result",
          "data": {
            "text/plain": [
              "16"
            ]
          },
          "metadata": {},
          "execution_count": 16
        }
      ]
    },
    {
      "cell_type": "code",
      "metadata": {
        "colab": {
          "base_uri": "https://localhost:8080/"
        },
        "id": "S_VPb3AmuzGo",
        "outputId": "51d4fa27-f15e-48ad-9d5b-d2a3c207bb44"
      },
      "source": [
        "5 * (2 + 3) * 2"
      ],
      "execution_count": 17,
      "outputs": [
        {
          "output_type": "execute_result",
          "data": {
            "text/plain": [
              "50"
            ]
          },
          "metadata": {},
          "execution_count": 17
        }
      ]
    },
    {
      "cell_type": "code",
      "metadata": {
        "colab": {
          "base_uri": "https://localhost:8080/"
        },
        "id": "_9lw8Dudu1rU",
        "outputId": "c862ffe7-1a8a-4f7e-e88a-6a75ac52d068"
      },
      "source": [
        "_"
      ],
      "execution_count": 18,
      "outputs": [
        {
          "output_type": "execute_result",
          "data": {
            "text/plain": [
              "50"
            ]
          },
          "metadata": {},
          "execution_count": 18
        }
      ]
    },
    {
      "cell_type": "code",
      "metadata": {
        "colab": {
          "base_uri": "https://localhost:8080/"
        },
        "id": "u4SVcTEpu6oE",
        "outputId": "c513a3d9-eb18-4f50-edf3-82172ea8453c"
      },
      "source": [
        "5 * 2"
      ],
      "execution_count": 19,
      "outputs": [
        {
          "output_type": "execute_result",
          "data": {
            "text/plain": [
              "10"
            ]
          },
          "metadata": {},
          "execution_count": 19
        }
      ]
    },
    {
      "cell_type": "code",
      "metadata": {
        "colab": {
          "base_uri": "https://localhost:8080/"
        },
        "id": "l8pQN_R-vEIK",
        "outputId": "80e6532e-0a89-41f2-bff1-970a5cad9ebb"
      },
      "source": [
        "_ + 3 * 2"
      ],
      "execution_count": 20,
      "outputs": [
        {
          "output_type": "execute_result",
          "data": {
            "text/plain": [
              "16"
            ]
          },
          "metadata": {},
          "execution_count": 20
        }
      ]
    },
    {
      "cell_type": "code",
      "metadata": {
        "colab": {
          "base_uri": "https://localhost:8080/"
        },
        "id": "xGfqUkFtvF2o",
        "outputId": "8fc4ae33-829f-47f2-8773-a3147c9d6565"
      },
      "source": [
        "_ / 2"
      ],
      "execution_count": 21,
      "outputs": [
        {
          "output_type": "execute_result",
          "data": {
            "text/plain": [
              "8.0"
            ]
          },
          "metadata": {},
          "execution_count": 21
        }
      ]
    },
    {
      "cell_type": "code",
      "metadata": {
        "colab": {
          "base_uri": "https://localhost:8080/"
        },
        "id": "KpFjaKSovHkC",
        "outputId": "64cb20c9-32e0-4cde-a653-d7c5b7f8f97d"
      },
      "source": [
        "10 % 2 + 3 // 10"
      ],
      "execution_count": 22,
      "outputs": [
        {
          "output_type": "execute_result",
          "data": {
            "text/plain": [
              "0"
            ]
          },
          "metadata": {},
          "execution_count": 22
        }
      ]
    },
    {
      "cell_type": "code",
      "metadata": {
        "colab": {
          "base_uri": "https://localhost:8080/"
        },
        "id": "kAqFdKcBvTCo",
        "outputId": "386f540b-e5c9-4b4f-8377-fdf4b894a4f8"
      },
      "source": [
        "5 * (2 + 3) / 2"
      ],
      "execution_count": 23,
      "outputs": [
        {
          "output_type": "execute_result",
          "data": {
            "text/plain": [
              "12.5"
            ]
          },
          "metadata": {},
          "execution_count": 23
        }
      ]
    },
    {
      "cell_type": "code",
      "metadata": {
        "colab": {
          "base_uri": "https://localhost:8080/"
        },
        "id": "18D4RLLJvU7S",
        "outputId": "7ddb0c04-2951-425c-9521-62ea8d2c9b5f"
      },
      "source": [
        "2 ** 3 * 4"
      ],
      "execution_count": 24,
      "outputs": [
        {
          "output_type": "execute_result",
          "data": {
            "text/plain": [
              "32"
            ]
          },
          "metadata": {},
          "execution_count": 24
        }
      ]
    },
    {
      "cell_type": "markdown",
      "metadata": {
        "id": "A4t_h2Pivd3J"
      },
      "source": [
        "#**Variáveis**"
      ]
    },
    {
      "cell_type": "code",
      "metadata": {
        "id": "Rzpt0EnKvWvn"
      },
      "source": [
        "ano_atual = 2021\n",
        "ano_fabricacao = 2003\n",
        "km_total = 44410.0"
      ],
      "execution_count": 27,
      "outputs": []
    },
    {
      "cell_type": "code",
      "metadata": {
        "colab": {
          "base_uri": "https://localhost:8080/"
        },
        "id": "3Il5AZc2wjVl",
        "outputId": "38238405-09dd-4da9-f26b-67485d4e891b"
      },
      "source": [
        "ano_atual"
      ],
      "execution_count": 26,
      "outputs": [
        {
          "output_type": "execute_result",
          "data": {
            "text/plain": [
              "2021"
            ]
          },
          "metadata": {},
          "execution_count": 26
        }
      ]
    },
    {
      "cell_type": "code",
      "metadata": {
        "colab": {
          "base_uri": "https://localhost:8080/"
        },
        "id": "X8p0WjoHwk9d",
        "outputId": "4e633638-173f-4f52-cd68-b2576c905aac"
      },
      "source": [
        "ano_fabricacao"
      ],
      "execution_count": 28,
      "outputs": [
        {
          "output_type": "execute_result",
          "data": {
            "text/plain": [
              "2003"
            ]
          },
          "metadata": {},
          "execution_count": 28
        }
      ]
    },
    {
      "cell_type": "code",
      "metadata": {
        "colab": {
          "base_uri": "https://localhost:8080/"
        },
        "id": "qya_zLtcwxch",
        "outputId": "a622dcaf-f3a2-4a19-c472-523d935df94f"
      },
      "source": [
        "km_total"
      ],
      "execution_count": 32,
      "outputs": [
        {
          "output_type": "execute_result",
          "data": {
            "text/plain": [
              "44410.0"
            ]
          },
          "metadata": {},
          "execution_count": 32
        }
      ]
    },
    {
      "cell_type": "code",
      "metadata": {
        "id": "c_W8iQRJw0Yd"
      },
      "source": [
        "km_media = km_total / (ano_atual - ano_fabricacao)"
      ],
      "execution_count": 33,
      "outputs": []
    },
    {
      "cell_type": "code",
      "metadata": {
        "colab": {
          "base_uri": "https://localhost:8080/"
        },
        "id": "LMHK2qJmw65e",
        "outputId": "7a5287d5-1aaf-438d-c937-7dea2d22186e"
      },
      "source": [
        "km_media"
      ],
      "execution_count": 34,
      "outputs": [
        {
          "output_type": "execute_result",
          "data": {
            "text/plain": [
              "2467.222222222222"
            ]
          },
          "metadata": {},
          "execution_count": 34
        }
      ]
    },
    {
      "cell_type": "code",
      "metadata": {
        "colab": {
          "base_uri": "https://localhost:8080/"
        },
        "id": "7vbPNOeDw_Qn",
        "outputId": "a510e8b5-7bf1-4091-fd85-9710025f3f23"
      },
      "source": [
        "ano_atual = 2021\n",
        "ano_fabricacao = 2003\n",
        "km_total = 44410.0\n",
        "km_media = km_total / (ano_atual - ano_fabricacao)\n",
        "\n",
        "km_total = km_total + km_media\n",
        "km_total"
      ],
      "execution_count": 35,
      "outputs": [
        {
          "output_type": "execute_result",
          "data": {
            "text/plain": [
              "46877.22222222222"
            ]
          },
          "metadata": {},
          "execution_count": 35
        }
      ]
    },
    {
      "cell_type": "code",
      "metadata": {
        "colab": {
          "base_uri": "https://localhost:8080/"
        },
        "id": "heRxiyVyxlrV",
        "outputId": "fb13bba9-73fe-4462-a8cb-6afb47e8b372"
      },
      "source": [
        "ano_atual = 2021\n",
        "ano_fabricacao = 2003\n",
        "km_total = 44410.0\n",
        "km_media = km_total / (ano_atual - ano_fabricacao)\n",
        "\n",
        "km_total += km_media\n",
        "km_total"
      ],
      "execution_count": 36,
      "outputs": [
        {
          "output_type": "execute_result",
          "data": {
            "text/plain": [
              "46877.22222222222"
            ]
          },
          "metadata": {},
          "execution_count": 36
        }
      ]
    },
    {
      "cell_type": "code",
      "metadata": {
        "id": "M5NWOp54xsCB"
      },
      "source": [
        "ano_atual, ano_fabricacao, km_total = 2021, 2003, 44410.0"
      ],
      "execution_count": 37,
      "outputs": []
    },
    {
      "cell_type": "code",
      "metadata": {
        "colab": {
          "base_uri": "https://localhost:8080/"
        },
        "id": "ogfG1eKrx9f4",
        "outputId": "622dcbe9-e549-468d-c97a-026e9c4f3dc0"
      },
      "source": [
        "ano_atual"
      ],
      "execution_count": 38,
      "outputs": [
        {
          "output_type": "execute_result",
          "data": {
            "text/plain": [
              "2021"
            ]
          },
          "metadata": {},
          "execution_count": 38
        }
      ]
    },
    {
      "cell_type": "code",
      "metadata": {
        "colab": {
          "base_uri": "https://localhost:8080/"
        },
        "id": "HatA0Webx_Fc",
        "outputId": "2a7feead-bd17-4eb4-cd3f-1ac0c0e460cd"
      },
      "source": [
        "ano_atual, ano_fabricacao, km_total = 2021, 2003, 44410.0\n",
        "km_media = km_total / (ano_atual - ano_fabricacao)\n",
        "km_total += km_media\n",
        "km_total"
      ],
      "execution_count": 39,
      "outputs": [
        {
          "output_type": "execute_result",
          "data": {
            "text/plain": [
              "46877.22222222222"
            ]
          },
          "metadata": {},
          "execution_count": 39
        }
      ]
    },
    {
      "cell_type": "markdown",
      "metadata": {
        "id": "V1DhpJQjyg-v"
      },
      "source": [
        "#**Tipos de dados**"
      ]
    },
    {
      "cell_type": "code",
      "metadata": {
        "id": "n5MdHffpyNaO"
      },
      "source": [
        "ano_atual = 2021"
      ],
      "execution_count": 40,
      "outputs": []
    },
    {
      "cell_type": "code",
      "metadata": {
        "colab": {
          "base_uri": "https://localhost:8080/"
        },
        "id": "4j_rFPQvy09e",
        "outputId": "cc56608a-a585-4efb-f4ce-63eccf9a8880"
      },
      "source": [
        "type(ano_atual)"
      ],
      "execution_count": 41,
      "outputs": [
        {
          "output_type": "execute_result",
          "data": {
            "text/plain": [
              "int"
            ]
          },
          "metadata": {},
          "execution_count": 41
        }
      ]
    },
    {
      "cell_type": "code",
      "metadata": {
        "colab": {
          "base_uri": "https://localhost:8080/"
        },
        "id": "i0JLkSZBy3RB",
        "outputId": "b996b3dc-045b-4fd8-f53a-10d4d0853de3"
      },
      "source": [
        "type(km_total)"
      ],
      "execution_count": 42,
      "outputs": [
        {
          "output_type": "execute_result",
          "data": {
            "text/plain": [
              "float"
            ]
          },
          "metadata": {},
          "execution_count": 42
        }
      ]
    },
    {
      "cell_type": "code",
      "metadata": {
        "id": "KrIPDDo_y7mv"
      },
      "source": [
        "zero_km = True"
      ],
      "execution_count": 43,
      "outputs": []
    },
    {
      "cell_type": "code",
      "metadata": {
        "colab": {
          "base_uri": "https://localhost:8080/"
        },
        "id": "lFoVtet0y_eN",
        "outputId": "d18cd770-c368-4044-a3c8-35ba58df7b6b"
      },
      "source": [
        "type(zero_km)"
      ],
      "execution_count": 44,
      "outputs": [
        {
          "output_type": "execute_result",
          "data": {
            "text/plain": [
              "bool"
            ]
          },
          "metadata": {},
          "execution_count": 44
        }
      ]
    },
    {
      "cell_type": "code",
      "metadata": {
        "colab": {
          "base_uri": "https://localhost:8080/",
          "height": 35
        },
        "id": "Kjjtc9huzBoO",
        "outputId": "f5fd45dd-ead7-4270-b5d7-f9448d1157fd"
      },
      "source": [
        "nome = 'Chery'\n",
        "nome"
      ],
      "execution_count": 45,
      "outputs": [
        {
          "output_type": "execute_result",
          "data": {
            "application/vnd.google.colaboratory.intrinsic+json": {
              "type": "string"
            },
            "text/plain": [
              "'Chery'"
            ]
          },
          "metadata": {},
          "execution_count": 45
        }
      ]
    },
    {
      "cell_type": "code",
      "metadata": {
        "id": "RznolwNYzKI0"
      },
      "source": [
        "carro = '''\n",
        " Nome\n",
        " Idade\n",
        " Nota\n",
        " '''"
      ],
      "execution_count": 46,
      "outputs": []
    },
    {
      "cell_type": "code",
      "metadata": {
        "colab": {
          "base_uri": "https://localhost:8080/",
          "height": 35
        },
        "id": "fpXqQaABziUy",
        "outputId": "ae451565-cebb-4e5d-fcd2-f0a821e4ada1"
      },
      "source": [
        "carro"
      ],
      "execution_count": 47,
      "outputs": [
        {
          "output_type": "execute_result",
          "data": {
            "application/vnd.google.colaboratory.intrinsic+json": {
              "type": "string"
            },
            "text/plain": [
              "'\\n Nome\\n Idade\\n Nota\\n '"
            ]
          },
          "metadata": {},
          "execution_count": 47
        }
      ]
    },
    {
      "cell_type": "code",
      "metadata": {
        "colab": {
          "base_uri": "https://localhost:8080/"
        },
        "id": "klqFJ_Iszjdh",
        "outputId": "7b3eb5b3-5dfa-43cc-bc2c-665393b885b8"
      },
      "source": [
        "type(carro)"
      ],
      "execution_count": 48,
      "outputs": [
        {
          "output_type": "execute_result",
          "data": {
            "text/plain": [
              "str"
            ]
          },
          "metadata": {},
          "execution_count": 48
        }
      ]
    },
    {
      "cell_type": "code",
      "metadata": {
        "id": "6MD-aj4Hzl5V"
      },
      "source": [
        "quilometragem = None"
      ],
      "execution_count": 49,
      "outputs": []
    },
    {
      "cell_type": "code",
      "metadata": {
        "id": "TH3LQCDEzqzw"
      },
      "source": [
        "quilometragem"
      ],
      "execution_count": 50,
      "outputs": []
    },
    {
      "cell_type": "code",
      "metadata": {
        "colab": {
          "base_uri": "https://localhost:8080/"
        },
        "id": "e0abExZuzsB2",
        "outputId": "e641e7aa-1f19-4de7-d0a3-7e965d96a3b9"
      },
      "source": [
        "type(quilometragem)"
      ],
      "execution_count": 51,
      "outputs": [
        {
          "output_type": "execute_result",
          "data": {
            "text/plain": [
              "NoneType"
            ]
          },
          "metadata": {},
          "execution_count": 51
        }
      ]
    },
    {
      "cell_type": "markdown",
      "metadata": {
        "id": "RhhNrdfaz_q3"
      },
      "source": [
        "#**Conversão Tipos**"
      ]
    },
    {
      "cell_type": "code",
      "metadata": {
        "id": "t0eUj8ktzwQw"
      },
      "source": [
        "a = 10\n",
        "b = 20\n",
        "c = 'Python é '\n",
        "d = 'legal'"
      ],
      "execution_count": 52,
      "outputs": []
    },
    {
      "cell_type": "code",
      "metadata": {
        "colab": {
          "base_uri": "https://localhost:8080/"
        },
        "id": "Ee-ZSxeN0NOh",
        "outputId": "67d1d5d8-2963-40e3-b4de-e7293689ee90"
      },
      "source": [
        "type(a)"
      ],
      "execution_count": 53,
      "outputs": [
        {
          "output_type": "execute_result",
          "data": {
            "text/plain": [
              "int"
            ]
          },
          "metadata": {},
          "execution_count": 53
        }
      ]
    },
    {
      "cell_type": "code",
      "metadata": {
        "colab": {
          "base_uri": "https://localhost:8080/"
        },
        "id": "nil9w4Ix0Os1",
        "outputId": "2470d874-be05-475f-8205-a336516ed945"
      },
      "source": [
        "type(b)"
      ],
      "execution_count": 54,
      "outputs": [
        {
          "output_type": "execute_result",
          "data": {
            "text/plain": [
              "int"
            ]
          },
          "metadata": {},
          "execution_count": 54
        }
      ]
    },
    {
      "cell_type": "code",
      "metadata": {
        "colab": {
          "base_uri": "https://localhost:8080/"
        },
        "id": "krCgN9WW0Qsz",
        "outputId": "f644dac9-391c-4344-b1e1-79ff73f64767"
      },
      "source": [
        "type(c)"
      ],
      "execution_count": 55,
      "outputs": [
        {
          "output_type": "execute_result",
          "data": {
            "text/plain": [
              "str"
            ]
          },
          "metadata": {},
          "execution_count": 55
        }
      ]
    },
    {
      "cell_type": "code",
      "metadata": {
        "colab": {
          "base_uri": "https://localhost:8080/"
        },
        "id": "4kMjir_L0R00",
        "outputId": "51bd5a6e-cb56-4c4a-faca-7e3bf33921db"
      },
      "source": [
        "type(d)"
      ],
      "execution_count": 56,
      "outputs": [
        {
          "output_type": "execute_result",
          "data": {
            "text/plain": [
              "str"
            ]
          },
          "metadata": {},
          "execution_count": 56
        }
      ]
    },
    {
      "cell_type": "code",
      "metadata": {
        "colab": {
          "base_uri": "https://localhost:8080/"
        },
        "id": "sC6dqFHb0Tvb",
        "outputId": "57e11068-aaa3-40a9-c370-52c59b1a38ec"
      },
      "source": [
        "a+b"
      ],
      "execution_count": 57,
      "outputs": [
        {
          "output_type": "execute_result",
          "data": {
            "text/plain": [
              "30"
            ]
          },
          "metadata": {},
          "execution_count": 57
        }
      ]
    },
    {
      "cell_type": "code",
      "metadata": {
        "colab": {
          "base_uri": "https://localhost:8080/",
          "height": 35
        },
        "id": "G8mQFb-z0Uqg",
        "outputId": "72f8d5b1-0e8e-4e14-a49e-e5f406208918"
      },
      "source": [
        "c+d"
      ],
      "execution_count": 58,
      "outputs": [
        {
          "output_type": "execute_result",
          "data": {
            "application/vnd.google.colaboratory.intrinsic+json": {
              "type": "string"
            },
            "text/plain": [
              "'Python é legal'"
            ]
          },
          "metadata": {},
          "execution_count": 58
        }
      ]
    },
    {
      "cell_type": "code",
      "metadata": {
        "colab": {
          "base_uri": "https://localhost:8080/",
          "height": 35
        },
        "id": "S7SncLIR0W5r",
        "outputId": "b3316312-e815-4903-f791-7b82ae0055c9"
      },
      "source": [
        "str(a)"
      ],
      "execution_count": 59,
      "outputs": [
        {
          "output_type": "execute_result",
          "data": {
            "application/vnd.google.colaboratory.intrinsic+json": {
              "type": "string"
            },
            "text/plain": [
              "'10'"
            ]
          },
          "metadata": {},
          "execution_count": 59
        }
      ]
    },
    {
      "cell_type": "code",
      "metadata": {
        "colab": {
          "base_uri": "https://localhost:8080/"
        },
        "id": "coy8L54N0lWf",
        "outputId": "640bab2f-bfc3-4ce4-d3fe-810324a6b243"
      },
      "source": [
        "type(str(a))"
      ],
      "execution_count": 61,
      "outputs": [
        {
          "output_type": "execute_result",
          "data": {
            "text/plain": [
              "str"
            ]
          },
          "metadata": {},
          "execution_count": 61
        }
      ]
    },
    {
      "cell_type": "code",
      "metadata": {
        "colab": {
          "base_uri": "https://localhost:8080/",
          "height": 35
        },
        "id": "WMh0J_Bk0rKn",
        "outputId": "48605942-a296-4f10-94da-8659985a371c"
      },
      "source": [
        "c + str(a)"
      ],
      "execution_count": 62,
      "outputs": [
        {
          "output_type": "execute_result",
          "data": {
            "application/vnd.google.colaboratory.intrinsic+json": {
              "type": "string"
            },
            "text/plain": [
              "'Python é 10'"
            ]
          },
          "metadata": {},
          "execution_count": 62
        }
      ]
    },
    {
      "cell_type": "code",
      "metadata": {
        "colab": {
          "base_uri": "https://localhost:8080/"
        },
        "id": "uYyCdCHJ0upd",
        "outputId": "436dbbed-15cb-4eb3-cf27-4eeb481021c3"
      },
      "source": [
        "float(a)"
      ],
      "execution_count": 63,
      "outputs": [
        {
          "output_type": "execute_result",
          "data": {
            "text/plain": [
              "10.0"
            ]
          },
          "metadata": {},
          "execution_count": 63
        }
      ]
    },
    {
      "cell_type": "code",
      "metadata": {
        "id": "DdHRphr40wxG"
      },
      "source": [
        "var = 3.141492"
      ],
      "execution_count": 64,
      "outputs": []
    },
    {
      "cell_type": "code",
      "metadata": {
        "colab": {
          "base_uri": "https://localhost:8080/"
        },
        "id": "G3cvYq-T0z2B",
        "outputId": "8f048c0b-2d8f-4bea-f7b8-4d2f7e6d9fa6"
      },
      "source": [
        "type(var)"
      ],
      "execution_count": 65,
      "outputs": [
        {
          "output_type": "execute_result",
          "data": {
            "text/plain": [
              "float"
            ]
          },
          "metadata": {},
          "execution_count": 65
        }
      ]
    },
    {
      "cell_type": "code",
      "metadata": {
        "colab": {
          "base_uri": "https://localhost:8080/"
        },
        "id": "yDnUtOLS01MI",
        "outputId": "4799e37d-36f3-44d3-e71b-45ae07ffb69e"
      },
      "source": [
        "int(var)"
      ],
      "execution_count": 66,
      "outputs": [
        {
          "output_type": "execute_result",
          "data": {
            "text/plain": [
              "3"
            ]
          },
          "metadata": {},
          "execution_count": 66
        }
      ]
    },
    {
      "cell_type": "code",
      "metadata": {
        "id": "fbDYE19h06lw"
      },
      "source": [
        "text = 'A quilometragem média do veículo é '\n",
        "Km = 100000\n",
        "Ano_atual = 2019\n",
        "Ano_fabricacao = 1999"
      ],
      "execution_count": 67,
      "outputs": []
    },
    {
      "cell_type": "code",
      "metadata": {
        "colab": {
          "base_uri": "https://localhost:8080/",
          "height": 35
        },
        "id": "LLCCU3n-1Hec",
        "outputId": "87c3b947-30ed-449a-a766-dc08a5044c83"
      },
      "source": [
        "text + str( int( Km / (Ano_atual - Ano_fabricacao) ) ) + ' km'"
      ],
      "execution_count": 68,
      "outputs": [
        {
          "output_type": "execute_result",
          "data": {
            "application/vnd.google.colaboratory.intrinsic+json": {
              "type": "string"
            },
            "text/plain": [
              "'A quilometragem média do veículo é 5000 km'"
            ]
          },
          "metadata": {},
          "execution_count": 68
        }
      ]
    },
    {
      "cell_type": "markdown",
      "metadata": {
        "id": "Xtg5-guZ2CEM"
      },
      "source": [
        "#**Formatação**"
      ]
    },
    {
      "cell_type": "code",
      "metadata": {
        "colab": {
          "base_uri": "https://localhost:8080/"
        },
        "id": "B_ON85Yr1TNW",
        "outputId": "c46e4ea4-6476-433f-d9ff-b746b25b47f1"
      },
      "source": [
        "print('Olá, {}!'.format('Fulano'))"
      ],
      "execution_count": 69,
      "outputs": [
        {
          "output_type": "stream",
          "text": [
            "Olá, Fulano!\n"
          ],
          "name": "stdout"
        }
      ]
    },
    {
      "cell_type": "code",
      "metadata": {
        "colab": {
          "base_uri": "https://localhost:8080/"
        },
        "id": "ClvsJp8p2S3M",
        "outputId": "cec122cb-3604-46d2-da95-9650ff72e78a"
      },
      "source": [
        "print('Olá, {}! Este é seu acesso de número {}'.format('Fulano', 32))"
      ],
      "execution_count": 71,
      "outputs": [
        {
          "output_type": "stream",
          "text": [
            "Olá, Fulano! Este é seu acesso de número 32\n"
          ],
          "name": "stdout"
        }
      ]
    },
    {
      "cell_type": "code",
      "metadata": {
        "colab": {
          "base_uri": "https://localhost:8080/"
        },
        "id": "6q08XWBq2ei2",
        "outputId": "a7874992-efbb-4452-9db7-4517e09c19eb"
      },
      "source": [
        "print('Olá, {nome}! Este é seu acesso de número {acessos}'.format(nome = 'Fulano', acessos = 32))"
      ],
      "execution_count": 72,
      "outputs": [
        {
          "output_type": "stream",
          "text": [
            "Olá, Fulano! Este é seu acesso de número 32\n"
          ],
          "name": "stdout"
        }
      ]
    },
    {
      "cell_type": "code",
      "metadata": {
        "id": "A3P9QuIu2tx6"
      },
      "source": [
        "nome = 'Fulano'\n",
        "acessos = 32"
      ],
      "execution_count": 73,
      "outputs": []
    },
    {
      "cell_type": "code",
      "metadata": {
        "colab": {
          "base_uri": "https://localhost:8080/"
        },
        "id": "FsqgMb2Y21mr",
        "outputId": "bb66b7f5-e838-40cd-d349-7c9527ee09c1"
      },
      "source": [
        "print(f'Olá, {nome}! Este é seu acesso de número {acessos}')"
      ],
      "execution_count": 75,
      "outputs": [
        {
          "output_type": "stream",
          "text": [
            "Olá, Fulano! Este é seu acesso de número 32\n"
          ],
          "name": "stdout"
        }
      ]
    },
    {
      "cell_type": "markdown",
      "metadata": {
        "id": "Gg67D1jH3osG"
      },
      "source": [
        "#**Listas**"
      ]
    },
    {
      "cell_type": "code",
      "metadata": {
        "colab": {
          "base_uri": "https://localhost:8080/"
        },
        "id": "HgiNaCs227XD",
        "outputId": "a530401f-b514-4f2e-85a5-065bd53cfb30"
      },
      "source": [
        "acessorios = ['Rodas de liga', 'Travas elétricas', 'Piloto automático', 'Ar condicionado']\n",
        "acessorios"
      ],
      "execution_count": 1,
      "outputs": [
        {
          "output_type": "execute_result",
          "data": {
            "text/plain": [
              "['Rodas de liga', 'Travas elétricas', 'Piloto automático', 'Ar condicionado']"
            ]
          },
          "metadata": {},
          "execution_count": 1
        }
      ]
    },
    {
      "cell_type": "code",
      "metadata": {
        "colab": {
          "base_uri": "https://localhost:8080/"
        },
        "id": "18YPvaHQ4EVI",
        "outputId": "698fca9b-8cfc-439a-8568-7cd126b3df19"
      },
      "source": [
        "type(acessorios)"
      ],
      "execution_count": 2,
      "outputs": [
        {
          "output_type": "execute_result",
          "data": {
            "text/plain": [
              "list"
            ]
          },
          "metadata": {},
          "execution_count": 2
        }
      ]
    },
    {
      "cell_type": "code",
      "metadata": {
        "id": "_F6dOvoh4SR8"
      },
      "source": [
        "carro_1 = 'Jeta', 'Motor 4.0', 2003, False, ['Rodas de liga', 'Travas elétricas', 'Piloto automático', 'Ar condicionado']\n",
        "carro_2 = 'Chery', 'Motor 3.0', 2010, False, ['Rodas de liga', 'Travas elétricas', 'Piloto automático']"
      ],
      "execution_count": 4,
      "outputs": []
    },
    {
      "cell_type": "code",
      "metadata": {
        "colab": {
          "base_uri": "https://localhost:8080/"
        },
        "id": "C2bbromt4vlL",
        "outputId": "5747e0e9-1751-4ccf-ad45-9fff3b35c86c"
      },
      "source": [
        "carro_1"
      ],
      "execution_count": 5,
      "outputs": [
        {
          "output_type": "execute_result",
          "data": {
            "text/plain": [
              "('Jeta',\n",
              " 'Motor 4.0',\n",
              " 2003,\n",
              " False,\n",
              " ['Rodas de liga', 'Travas elétricas', 'Piloto automático', 'Ar condicionado'])"
            ]
          },
          "metadata": {},
          "execution_count": 5
        }
      ]
    },
    {
      "cell_type": "code",
      "metadata": {
        "colab": {
          "base_uri": "https://localhost:8080/"
        },
        "id": "eLERJrrA41bB",
        "outputId": "c8ae8c39-d007-44a1-ce18-848029ed5e93"
      },
      "source": [
        "carro_2"
      ],
      "execution_count": 6,
      "outputs": [
        {
          "output_type": "execute_result",
          "data": {
            "text/plain": [
              "('Chery',\n",
              " 'Motor 3.0',\n",
              " 2010,\n",
              " False,\n",
              " ['Rodas de liga', 'Travas elétricas', 'Piloto automático'])"
            ]
          },
          "metadata": {},
          "execution_count": 6
        }
      ]
    },
    {
      "cell_type": "code",
      "metadata": {
        "colab": {
          "base_uri": "https://localhost:8080/"
        },
        "id": "DzHjV7HX43Ru",
        "outputId": "ed93fe52-24cf-4cbe-cc18-c8d3891533db"
      },
      "source": [
        "carros = [carro_1, carro_2]\n",
        "carros"
      ],
      "execution_count": 7,
      "outputs": [
        {
          "output_type": "execute_result",
          "data": {
            "text/plain": [
              "[('Jeta',\n",
              "  'Motor 4.0',\n",
              "  2003,\n",
              "  False,\n",
              "  ['Rodas de liga',\n",
              "   'Travas elétricas',\n",
              "   'Piloto automático',\n",
              "   'Ar condicionado']),\n",
              " ('Chery',\n",
              "  'Motor 3.0',\n",
              "  2010,\n",
              "  False,\n",
              "  ['Rodas de liga', 'Travas elétricas', 'Piloto automático'])]"
            ]
          },
          "metadata": {},
          "execution_count": 7
        }
      ]
    },
    {
      "cell_type": "markdown",
      "metadata": {
        "id": "_ttJuRi25WK4"
      },
      "source": [
        "#**Operações com listas**"
      ]
    },
    {
      "cell_type": "code",
      "metadata": {
        "colab": {
          "base_uri": "https://localhost:8080/"
        },
        "id": "3hlz8DnJ49Qv",
        "outputId": "3c61df84-8851-4835-d868-be68ceec36d9"
      },
      "source": [
        "acessorios"
      ],
      "execution_count": 8,
      "outputs": [
        {
          "output_type": "execute_result",
          "data": {
            "text/plain": [
              "['Rodas de liga', 'Travas elétricas', 'Piloto automático', 'Ar condicionado']"
            ]
          },
          "metadata": {},
          "execution_count": 8
        }
      ]
    },
    {
      "cell_type": "code",
      "metadata": {
        "colab": {
          "base_uri": "https://localhost:8080/"
        },
        "id": "dYndveZp5gMQ",
        "outputId": "84b7babf-2bae-4e5f-aeef-0f9bdd93cf80"
      },
      "source": [
        "'Rodas de liga' in acessorios"
      ],
      "execution_count": 10,
      "outputs": [
        {
          "output_type": "execute_result",
          "data": {
            "text/plain": [
              "True"
            ]
          },
          "metadata": {},
          "execution_count": 10
        }
      ]
    },
    {
      "cell_type": "code",
      "metadata": {
        "colab": {
          "base_uri": "https://localhost:8080/"
        },
        "id": "9yCoV_Iw5qRM",
        "outputId": "c02e6a28-3b78-4761-9188-bc63171f3088"
      },
      "source": [
        "'4 x 4' in acessorios"
      ],
      "execution_count": 11,
      "outputs": [
        {
          "output_type": "execute_result",
          "data": {
            "text/plain": [
              "False"
            ]
          },
          "metadata": {},
          "execution_count": 11
        }
      ]
    },
    {
      "cell_type": "code",
      "metadata": {
        "colab": {
          "base_uri": "https://localhost:8080/"
        },
        "id": "kxUmzqtc5wPs",
        "outputId": "82c90998-6c52-448e-f761-05d5210a9c78"
      },
      "source": [
        "'Rodas de liga' not in acessorios"
      ],
      "execution_count": 12,
      "outputs": [
        {
          "output_type": "execute_result",
          "data": {
            "text/plain": [
              "False"
            ]
          },
          "metadata": {},
          "execution_count": 12
        }
      ]
    },
    {
      "cell_type": "code",
      "metadata": {
        "colab": {
          "base_uri": "https://localhost:8080/"
        },
        "id": "e6Oaj0fG50Hp",
        "outputId": "ee5e7313-3910-4c28-d69b-c11056f00b40"
      },
      "source": [
        "'4 x 4' not in acessorios"
      ],
      "execution_count": 13,
      "outputs": [
        {
          "output_type": "execute_result",
          "data": {
            "text/plain": [
              "True"
            ]
          },
          "metadata": {},
          "execution_count": 13
        }
      ]
    },
    {
      "cell_type": "code",
      "metadata": {
        "id": "XZwvm4s153Ja"
      },
      "source": [
        "A = ['Banana', 'Laranja', 'Uva']\n",
        "B = ['Maracuja', 'Melão', 'Melancia']"
      ],
      "execution_count": 14,
      "outputs": []
    },
    {
      "cell_type": "code",
      "metadata": {
        "colab": {
          "base_uri": "https://localhost:8080/"
        },
        "id": "SNyMvdf26J6r",
        "outputId": "3820474c-5551-4b09-e75b-51aa8adf2359"
      },
      "source": [
        "A"
      ],
      "execution_count": 15,
      "outputs": [
        {
          "output_type": "execute_result",
          "data": {
            "text/plain": [
              "['Banana', 'Laranja', 'Uva']"
            ]
          },
          "metadata": {},
          "execution_count": 15
        }
      ]
    },
    {
      "cell_type": "code",
      "metadata": {
        "colab": {
          "base_uri": "https://localhost:8080/"
        },
        "id": "HDsCqKsV6MVY",
        "outputId": "77ed81f7-1f0f-4f2d-99d1-3d550d69a859"
      },
      "source": [
        "B"
      ],
      "execution_count": 16,
      "outputs": [
        {
          "output_type": "execute_result",
          "data": {
            "text/plain": [
              "['Maracuja', 'Melão', 'Melancia']"
            ]
          },
          "metadata": {},
          "execution_count": 16
        }
      ]
    },
    {
      "cell_type": "code",
      "metadata": {
        "colab": {
          "base_uri": "https://localhost:8080/"
        },
        "id": "Svc0buQm6N_C",
        "outputId": "7bcd6aa1-0e7a-4e8e-a558-af3e4c326b31"
      },
      "source": [
        "A + B"
      ],
      "execution_count": 17,
      "outputs": [
        {
          "output_type": "execute_result",
          "data": {
            "text/plain": [
              "['Banana', 'Laranja', 'Uva', 'Maracuja', 'Melão', 'Melancia']"
            ]
          },
          "metadata": {},
          "execution_count": 17
        }
      ]
    },
    {
      "cell_type": "code",
      "metadata": {
        "colab": {
          "base_uri": "https://localhost:8080/"
        },
        "id": "KZpmUMJh6PXa",
        "outputId": "d7022314-27ae-4502-dede-2a70ab364d17"
      },
      "source": [
        "len(acessorios)"
      ],
      "execution_count": 18,
      "outputs": [
        {
          "output_type": "execute_result",
          "data": {
            "text/plain": [
              "4"
            ]
          },
          "metadata": {},
          "execution_count": 18
        }
      ]
    },
    {
      "cell_type": "code",
      "metadata": {
        "colab": {
          "base_uri": "https://localhost:8080/"
        },
        "id": "9e8P7AVg6V4i",
        "outputId": "bd599af9-1c15-4553-d25d-54a61eee4b3f"
      },
      "source": [
        "len(A)"
      ],
      "execution_count": 19,
      "outputs": [
        {
          "output_type": "execute_result",
          "data": {
            "text/plain": [
              "3"
            ]
          },
          "metadata": {},
          "execution_count": 19
        }
      ]
    },
    {
      "cell_type": "code",
      "metadata": {
        "id": "vrzyPwaU6XjL"
      },
      "source": [
        "carro = [\n",
        "    'Jetta Variant', \n",
        "    'Motor 4.0 Turbo', \n",
        "    2003, \n",
        "    44410.0, \n",
        "    False, \n",
        "    ['Rodas de liga', 'Travas elétricas', 'Piloto automático'], \n",
        "    88078.64\n",
        "]"
      ],
      "execution_count": 20,
      "outputs": []
    },
    {
      "cell_type": "code",
      "metadata": {
        "colab": {
          "base_uri": "https://localhost:8080/"
        },
        "id": "-lYN6EwO6iEE",
        "outputId": "94e50dd9-a070-4415-8689-1c477e1abfc9"
      },
      "source": [
        "'2003' in carro"
      ],
      "execution_count": 21,
      "outputs": [
        {
          "output_type": "execute_result",
          "data": {
            "text/plain": [
              "False"
            ]
          },
          "metadata": {},
          "execution_count": 21
        }
      ]
    },
    {
      "cell_type": "code",
      "metadata": {
        "colab": {
          "base_uri": "https://localhost:8080/"
        },
        "id": "2GFiKmSq6kdY",
        "outputId": "cfc53ca9-0bda-47ad-9b63-f5f19589ce3d"
      },
      "source": [
        "'Rodas de liga' in carro"
      ],
      "execution_count": 22,
      "outputs": [
        {
          "output_type": "execute_result",
          "data": {
            "text/plain": [
              "False"
            ]
          },
          "metadata": {},
          "execution_count": 22
        }
      ]
    },
    {
      "cell_type": "code",
      "metadata": {
        "colab": {
          "base_uri": "https://localhost:8080/"
        },
        "id": "P4MNg8-D6nd2",
        "outputId": "b8aa800e-5aaa-408d-f65b-15eb4419e232"
      },
      "source": [
        "'False' not in carro"
      ],
      "execution_count": 23,
      "outputs": [
        {
          "output_type": "execute_result",
          "data": {
            "text/plain": [
              "True"
            ]
          },
          "metadata": {},
          "execution_count": 23
        }
      ]
    },
    {
      "cell_type": "markdown",
      "metadata": {
        "id": "iSrW3MCx63CW"
      },
      "source": [
        "#**Seleções em listas**"
      ]
    },
    {
      "cell_type": "code",
      "metadata": {
        "colab": {
          "base_uri": "https://localhost:8080/"
        },
        "id": "uNjLsu-i6qvP",
        "outputId": "32010113-7c98-43b5-a01d-8f6dc07fcd88"
      },
      "source": [
        "acessorios"
      ],
      "execution_count": 24,
      "outputs": [
        {
          "output_type": "execute_result",
          "data": {
            "text/plain": [
              "['Rodas de liga', 'Travas elétricas', 'Piloto automático', 'Ar condicionado']"
            ]
          },
          "metadata": {},
          "execution_count": 24
        }
      ]
    },
    {
      "cell_type": "code",
      "metadata": {
        "colab": {
          "base_uri": "https://localhost:8080/",
          "height": 35
        },
        "id": "jA9-U-QG7HuC",
        "outputId": "db1cd74a-ac0b-49da-b962-d4e8ab62626e"
      },
      "source": [
        "acessorios[0]"
      ],
      "execution_count": 25,
      "outputs": [
        {
          "output_type": "execute_result",
          "data": {
            "application/vnd.google.colaboratory.intrinsic+json": {
              "type": "string"
            },
            "text/plain": [
              "'Rodas de liga'"
            ]
          },
          "metadata": {},
          "execution_count": 25
        }
      ]
    },
    {
      "cell_type": "code",
      "metadata": {
        "colab": {
          "base_uri": "https://localhost:8080/",
          "height": 35
        },
        "id": "whbbDpa_7PMC",
        "outputId": "eb0534ae-38f0-4557-9847-cbc7809b2d09"
      },
      "source": [
        "acessorios[2]"
      ],
      "execution_count": 26,
      "outputs": [
        {
          "output_type": "execute_result",
          "data": {
            "application/vnd.google.colaboratory.intrinsic+json": {
              "type": "string"
            },
            "text/plain": [
              "'Piloto automático'"
            ]
          },
          "metadata": {},
          "execution_count": 26
        }
      ]
    },
    {
      "cell_type": "code",
      "metadata": {
        "colab": {
          "base_uri": "https://localhost:8080/",
          "height": 35
        },
        "id": "SKoVh36U7RmC",
        "outputId": "0c2aa580-4c85-4cc1-ca2d-f9e23624bfe5"
      },
      "source": [
        "acessorios[-1]"
      ],
      "execution_count": 27,
      "outputs": [
        {
          "output_type": "execute_result",
          "data": {
            "application/vnd.google.colaboratory.intrinsic+json": {
              "type": "string"
            },
            "text/plain": [
              "'Ar condicionado'"
            ]
          },
          "metadata": {},
          "execution_count": 27
        }
      ]
    },
    {
      "cell_type": "code",
      "metadata": {
        "colab": {
          "base_uri": "https://localhost:8080/"
        },
        "id": "jSE1vbSG7U0q",
        "outputId": "a2f0a695-27e9-4073-8b8a-590219d01c42"
      },
      "source": [
        "carros"
      ],
      "execution_count": 28,
      "outputs": [
        {
          "output_type": "execute_result",
          "data": {
            "text/plain": [
              "[('Jeta',\n",
              "  'Motor 4.0',\n",
              "  2003,\n",
              "  False,\n",
              "  ['Rodas de liga',\n",
              "   'Travas elétricas',\n",
              "   'Piloto automático',\n",
              "   'Ar condicionado']),\n",
              " ('Chery',\n",
              "  'Motor 3.0',\n",
              "  2010,\n",
              "  False,\n",
              "  ['Rodas de liga', 'Travas elétricas', 'Piloto automático'])]"
            ]
          },
          "metadata": {},
          "execution_count": 28
        }
      ]
    },
    {
      "cell_type": "code",
      "metadata": {
        "colab": {
          "base_uri": "https://localhost:8080/"
        },
        "id": "eM8xSuwk7Y98",
        "outputId": "b56a21fc-9265-4d64-9b47-b3c0f54a7af6"
      },
      "source": [
        "carros[0]"
      ],
      "execution_count": 29,
      "outputs": [
        {
          "output_type": "execute_result",
          "data": {
            "text/plain": [
              "('Jeta',\n",
              " 'Motor 4.0',\n",
              " 2003,\n",
              " False,\n",
              " ['Rodas de liga', 'Travas elétricas', 'Piloto automático', 'Ar condicionado'])"
            ]
          },
          "metadata": {},
          "execution_count": 29
        }
      ]
    },
    {
      "cell_type": "code",
      "metadata": {
        "colab": {
          "base_uri": "https://localhost:8080/",
          "height": 35
        },
        "id": "_W-_VtBy7fEA",
        "outputId": "4d871f42-e5c5-43b8-b5af-287ee7c558f5"
      },
      "source": [
        "carros[0][0]"
      ],
      "execution_count": 30,
      "outputs": [
        {
          "output_type": "execute_result",
          "data": {
            "application/vnd.google.colaboratory.intrinsic+json": {
              "type": "string"
            },
            "text/plain": [
              "'Jeta'"
            ]
          },
          "metadata": {},
          "execution_count": 30
        }
      ]
    },
    {
      "cell_type": "code",
      "metadata": {
        "colab": {
          "base_uri": "https://localhost:8080/",
          "height": 35
        },
        "id": "bPTPvEkS7ntJ",
        "outputId": "6f84cc50-6669-4634-b629-ad3932dd50bf"
      },
      "source": [
        "carros[0][-1][1]"
      ],
      "execution_count": 37,
      "outputs": [
        {
          "output_type": "execute_result",
          "data": {
            "application/vnd.google.colaboratory.intrinsic+json": {
              "type": "string"
            },
            "text/plain": [
              "'Travas elétricas'"
            ]
          },
          "metadata": {},
          "execution_count": 37
        }
      ]
    },
    {
      "cell_type": "code",
      "metadata": {
        "colab": {
          "base_uri": "https://localhost:8080/"
        },
        "id": "7dkGXRff7wnu",
        "outputId": "8d24276f-8b08-45f3-dfe3-69f9bf6397c4"
      },
      "source": [
        "acessorios"
      ],
      "execution_count": 38,
      "outputs": [
        {
          "output_type": "execute_result",
          "data": {
            "text/plain": [
              "['Rodas de liga', 'Travas elétricas', 'Piloto automático', 'Ar condicionado']"
            ]
          },
          "metadata": {},
          "execution_count": 38
        }
      ]
    },
    {
      "cell_type": "code",
      "metadata": {
        "colab": {
          "base_uri": "https://localhost:8080/"
        },
        "id": "CW5fym4q8Px6",
        "outputId": "d42011ba-616a-459c-c4bd-7cf185a8b502"
      },
      "source": [
        "acessorios[1:3]"
      ],
      "execution_count": 41,
      "outputs": [
        {
          "output_type": "execute_result",
          "data": {
            "text/plain": [
              "['Travas elétricas', 'Piloto automático']"
            ]
          },
          "metadata": {},
          "execution_count": 41
        }
      ]
    },
    {
      "cell_type": "code",
      "metadata": {
        "colab": {
          "base_uri": "https://localhost:8080/"
        },
        "id": "2wZCf5ix8cjP",
        "outputId": "c8aa93c3-8d26-4585-8fae-6da20e2bf811"
      },
      "source": [
        "acessorios[1:]"
      ],
      "execution_count": 42,
      "outputs": [
        {
          "output_type": "execute_result",
          "data": {
            "text/plain": [
              "['Travas elétricas', 'Piloto automático', 'Ar condicionado']"
            ]
          },
          "metadata": {},
          "execution_count": 42
        }
      ]
    },
    {
      "cell_type": "code",
      "metadata": {
        "colab": {
          "base_uri": "https://localhost:8080/"
        },
        "id": "HiTyjTE78sv8",
        "outputId": "942366fa-5039-46d2-c890-fa2d9ef72701"
      },
      "source": [
        "acessorios[:2]"
      ],
      "execution_count": 44,
      "outputs": [
        {
          "output_type": "execute_result",
          "data": {
            "text/plain": [
              "['Rodas de liga', 'Travas elétricas']"
            ]
          },
          "metadata": {},
          "execution_count": 44
        }
      ]
    },
    {
      "cell_type": "code",
      "metadata": {
        "id": "PVj439IU8ww7"
      },
      "source": [
        "letras = ['A', 'B', 'C', 'D', 'E', 'F', 'G', 'H']"
      ],
      "execution_count": 45,
      "outputs": []
    },
    {
      "cell_type": "code",
      "metadata": {
        "colab": {
          "base_uri": "https://localhost:8080/"
        },
        "id": "OClNdUth84AK",
        "outputId": "dd594488-2e92-4320-a8b2-d35348e23ca6"
      },
      "source": [
        "['A', 'B']"
      ],
      "execution_count": 46,
      "outputs": [
        {
          "output_type": "execute_result",
          "data": {
            "text/plain": [
              "['A', 'B']"
            ]
          },
          "metadata": {},
          "execution_count": 46
        }
      ]
    },
    {
      "cell_type": "code",
      "metadata": {
        "colab": {
          "base_uri": "https://localhost:8080/"
        },
        "id": "avZhX9Xo89GW",
        "outputId": "3e60b652-2418-46f6-d7ea-970000c7bee6"
      },
      "source": [
        "letras[:2]"
      ],
      "execution_count": 52,
      "outputs": [
        {
          "output_type": "execute_result",
          "data": {
            "text/plain": [
              "['A', 'B']"
            ]
          },
          "metadata": {},
          "execution_count": 52
        }
      ]
    },
    {
      "cell_type": "code",
      "metadata": {
        "colab": {
          "base_uri": "https://localhost:8080/"
        },
        "id": "3141U6L38_hR",
        "outputId": "fc0d1d4d-353c-46cc-d5cb-bd7221d69236"
      },
      "source": [
        "letras[2:5]"
      ],
      "execution_count": 53,
      "outputs": [
        {
          "output_type": "execute_result",
          "data": {
            "text/plain": [
              "['C', 'D', 'E']"
            ]
          },
          "metadata": {},
          "execution_count": 53
        }
      ]
    },
    {
      "cell_type": "code",
      "metadata": {
        "colab": {
          "base_uri": "https://localhost:8080/"
        },
        "id": "AKhZPHNG9Cce",
        "outputId": "4156fdb2-62c6-467c-a115-fc5659aed904"
      },
      "source": [
        "letras[-3:]"
      ],
      "execution_count": 54,
      "outputs": [
        {
          "output_type": "execute_result",
          "data": {
            "text/plain": [
              "['F', 'G', 'H']"
            ]
          },
          "metadata": {},
          "execution_count": 54
        }
      ]
    },
    {
      "cell_type": "code",
      "metadata": {
        "id": "atdxfqYY9ZTd"
      },
      "source": [
        "carros = [\n",
        "    [\n",
        "        'Jetta Variant',\n",
        "        'Motor 4.0 Turbo',\n",
        "        2003,\n",
        "        False,\n",
        "        ['Rodas de liga', 'Travas elétricas', 'Piloto automático']\n",
        "    ],\n",
        "    [\n",
        "        'Passat',\n",
        "        'Motor Diesel',\n",
        "        1991,\n",
        "        True,\n",
        "        ['Central multimídia', 'Teto panorâmico', 'Freios ABS']\n",
        "    ]\n",
        "]"
      ],
      "execution_count": 55,
      "outputs": []
    },
    {
      "cell_type": "code",
      "metadata": {
        "colab": {
          "base_uri": "https://localhost:8080/"
        },
        "id": "5EbPc25q9dmE",
        "outputId": "06b98a18-e371-4e24-db1c-2d9e60fda7f4"
      },
      "source": [
        "carros[1][3]"
      ],
      "execution_count": 58,
      "outputs": [
        {
          "output_type": "execute_result",
          "data": {
            "text/plain": [
              "True"
            ]
          },
          "metadata": {},
          "execution_count": 58
        }
      ]
    },
    {
      "cell_type": "markdown",
      "metadata": {
        "id": "G7HvORMp9u-i"
      },
      "source": [
        "#**Métodos de listas**"
      ]
    },
    {
      "cell_type": "code",
      "metadata": {
        "colab": {
          "base_uri": "https://localhost:8080/"
        },
        "id": "GlGo9MdL9id2",
        "outputId": "d6a5dba0-d474-432a-a3dc-bbb4a6cdd422"
      },
      "source": [
        "acessorios"
      ],
      "execution_count": 59,
      "outputs": [
        {
          "output_type": "execute_result",
          "data": {
            "text/plain": [
              "['Rodas de liga', 'Travas elétricas', 'Piloto automático', 'Ar condicionado']"
            ]
          },
          "metadata": {},
          "execution_count": 59
        }
      ]
    },
    {
      "cell_type": "code",
      "metadata": {
        "colab": {
          "base_uri": "https://localhost:8080/"
        },
        "id": "ZFnsR_CI93lQ",
        "outputId": "e9c1682f-4847-432b-a8da-8dd8c6fe0fc0"
      },
      "source": [
        "acessorios.sort()\n",
        "acessorios"
      ],
      "execution_count": 60,
      "outputs": [
        {
          "output_type": "execute_result",
          "data": {
            "text/plain": [
              "['Ar condicionado', 'Piloto automático', 'Rodas de liga', 'Travas elétricas']"
            ]
          },
          "metadata": {},
          "execution_count": 60
        }
      ]
    },
    {
      "cell_type": "code",
      "metadata": {
        "colab": {
          "base_uri": "https://localhost:8080/"
        },
        "id": "yq-rPWeo-ANL",
        "outputId": "307d8a8d-60d1-49ee-d9a1-dba91d0567f5"
      },
      "source": [
        "acessorios.append('4 x 4')\n",
        "acessorios"
      ],
      "execution_count": 61,
      "outputs": [
        {
          "output_type": "execute_result",
          "data": {
            "text/plain": [
              "['Ar condicionado',\n",
              " 'Piloto automático',\n",
              " 'Rodas de liga',\n",
              " 'Travas elétricas',\n",
              " '4 x 4']"
            ]
          },
          "metadata": {},
          "execution_count": 61
        }
      ]
    },
    {
      "cell_type": "code",
      "metadata": {
        "colab": {
          "base_uri": "https://localhost:8080/",
          "height": 35
        },
        "id": "qJXT7a8l-Hfo",
        "outputId": "f80b84fb-b4ab-47ed-9cb2-618c9c1c6bd5"
      },
      "source": [
        "acessorios.pop()"
      ],
      "execution_count": 62,
      "outputs": [
        {
          "output_type": "execute_result",
          "data": {
            "application/vnd.google.colaboratory.intrinsic+json": {
              "type": "string"
            },
            "text/plain": [
              "'4 x 4'"
            ]
          },
          "metadata": {},
          "execution_count": 62
        }
      ]
    },
    {
      "cell_type": "code",
      "metadata": {
        "colab": {
          "base_uri": "https://localhost:8080/",
          "height": 35
        },
        "id": "rbUmuZd3-M7a",
        "outputId": "bdf3509d-dda8-4200-ae26-0df78fd46f02"
      },
      "source": [
        "acessorios.pop(2)"
      ],
      "execution_count": 65,
      "outputs": [
        {
          "output_type": "execute_result",
          "data": {
            "application/vnd.google.colaboratory.intrinsic+json": {
              "type": "string"
            },
            "text/plain": [
              "'Rodas de liga'"
            ]
          },
          "metadata": {},
          "execution_count": 65
        }
      ]
    },
    {
      "cell_type": "code",
      "metadata": {
        "colab": {
          "base_uri": "https://localhost:8080/"
        },
        "id": "Go3uwNz9_RKc",
        "outputId": "d2719703-0fe5-453e-883a-563d3a272855"
      },
      "source": [
        "acessorios"
      ],
      "execution_count": 66,
      "outputs": [
        {
          "output_type": "execute_result",
          "data": {
            "text/plain": [
              "['Ar condicionado', 'Piloto automático', 'Travas elétricas']"
            ]
          },
          "metadata": {},
          "execution_count": 66
        }
      ]
    },
    {
      "cell_type": "code",
      "metadata": {
        "colab": {
          "base_uri": "https://localhost:8080/"
        },
        "id": "8t7VWK0z_S7H",
        "outputId": "5afd582d-3f80-4ad2-d67e-5a4a31c9c2f2"
      },
      "source": [
        "acessorios_2 = acessorios\n",
        "acessorios_2"
      ],
      "execution_count": 67,
      "outputs": [
        {
          "output_type": "execute_result",
          "data": {
            "text/plain": [
              "['Ar condicionado', 'Piloto automático', 'Travas elétricas']"
            ]
          },
          "metadata": {},
          "execution_count": 67
        }
      ]
    },
    {
      "cell_type": "code",
      "metadata": {
        "colab": {
          "base_uri": "https://localhost:8080/"
        },
        "id": "ZdGwRglp_3Bb",
        "outputId": "0653ba95-83ea-474a-ca65-fc614877380d"
      },
      "source": [
        "acessorios_2.append('4 x 4')\n",
        "acessorios_2"
      ],
      "execution_count": 68,
      "outputs": [
        {
          "output_type": "execute_result",
          "data": {
            "text/plain": [
              "['Ar condicionado', 'Piloto automático', 'Travas elétricas', '4 x 4']"
            ]
          },
          "metadata": {},
          "execution_count": 68
        }
      ]
    },
    {
      "cell_type": "code",
      "metadata": {
        "colab": {
          "base_uri": "https://localhost:8080/"
        },
        "id": "Uev56d5F_-gS",
        "outputId": "536cee5b-7a59-45d8-f396-38c1eeeff37e"
      },
      "source": [
        "acessorios"
      ],
      "execution_count": 69,
      "outputs": [
        {
          "output_type": "execute_result",
          "data": {
            "text/plain": [
              "['Ar condicionado', 'Piloto automático', 'Travas elétricas', '4 x 4']"
            ]
          },
          "metadata": {},
          "execution_count": 69
        }
      ]
    },
    {
      "cell_type": "code",
      "metadata": {
        "colab": {
          "base_uri": "https://localhost:8080/",
          "height": 35
        },
        "id": "CIDLsJD6ADLT",
        "outputId": "3f044a70-e8f0-4883-b3b5-53a67d291e41"
      },
      "source": [
        "acessorios.pop()"
      ],
      "execution_count": 70,
      "outputs": [
        {
          "output_type": "execute_result",
          "data": {
            "application/vnd.google.colaboratory.intrinsic+json": {
              "type": "string"
            },
            "text/plain": [
              "'4 x 4'"
            ]
          },
          "metadata": {},
          "execution_count": 70
        }
      ]
    },
    {
      "cell_type": "code",
      "metadata": {
        "colab": {
          "base_uri": "https://localhost:8080/"
        },
        "id": "xHx-r0WOAP9Y",
        "outputId": "0e5b8afc-e506-4544-815a-156a4f0c9873"
      },
      "source": [
        "acessorios_2"
      ],
      "execution_count": 71,
      "outputs": [
        {
          "output_type": "execute_result",
          "data": {
            "text/plain": [
              "['Ar condicionado', 'Piloto automático', 'Travas elétricas']"
            ]
          },
          "metadata": {},
          "execution_count": 71
        }
      ]
    },
    {
      "cell_type": "code",
      "metadata": {
        "colab": {
          "base_uri": "https://localhost:8080/"
        },
        "id": "ubanCQpDATXu",
        "outputId": "29b7cbe6-e883-4d88-f404-20b8ace28586"
      },
      "source": [
        "acessorios_2 = acessorios.copy()\n",
        "acessorios_2"
      ],
      "execution_count": 72,
      "outputs": [
        {
          "output_type": "execute_result",
          "data": {
            "text/plain": [
              "['Ar condicionado', 'Piloto automático', 'Travas elétricas']"
            ]
          },
          "metadata": {},
          "execution_count": 72
        }
      ]
    },
    {
      "cell_type": "code",
      "metadata": {
        "colab": {
          "base_uri": "https://localhost:8080/"
        },
        "id": "so0wAIyIAafq",
        "outputId": "c5f9a2cf-2c2b-43c8-b517-ec4c5d00bab6"
      },
      "source": [
        "acessorios_2.append('4 x 4')\n",
        "acessorios_2"
      ],
      "execution_count": 73,
      "outputs": [
        {
          "output_type": "execute_result",
          "data": {
            "text/plain": [
              "['Ar condicionado', 'Piloto automático', 'Travas elétricas', '4 x 4']"
            ]
          },
          "metadata": {},
          "execution_count": 73
        }
      ]
    },
    {
      "cell_type": "code",
      "metadata": {
        "colab": {
          "base_uri": "https://localhost:8080/"
        },
        "id": "wTGQuXK7AjXm",
        "outputId": "a92b31e1-b3e7-4cf4-bd81-8942c4a5c32f"
      },
      "source": [
        "acessorios"
      ],
      "execution_count": 74,
      "outputs": [
        {
          "output_type": "execute_result",
          "data": {
            "text/plain": [
              "['Ar condicionado', 'Piloto automático', 'Travas elétricas']"
            ]
          },
          "metadata": {},
          "execution_count": 74
        }
      ]
    },
    {
      "cell_type": "code",
      "metadata": {
        "colab": {
          "base_uri": "https://localhost:8080/"
        },
        "id": "4-j3KYGJA2wu",
        "outputId": "c298f4f4-0ceb-4d5a-9200-7ff223c421b2"
      },
      "source": [
        "acessorios_2 = acessorios[:]\n",
        "acessorios_2"
      ],
      "execution_count": 75,
      "outputs": [
        {
          "output_type": "execute_result",
          "data": {
            "text/plain": [
              "['Ar condicionado', 'Piloto automático', 'Travas elétricas']"
            ]
          },
          "metadata": {},
          "execution_count": 75
        }
      ]
    },
    {
      "cell_type": "code",
      "metadata": {
        "id": "hKufcAvpBUpt"
      },
      "source": [
        "dados = [1, 2, 3, 4]\n",
        "dados_copia = dados\n",
        "dados_copia.append(5)"
      ],
      "execution_count": 76,
      "outputs": []
    },
    {
      "cell_type": "code",
      "metadata": {
        "colab": {
          "base_uri": "https://localhost:8080/"
        },
        "id": "8fdIuYslBV2T",
        "outputId": "0c00524c-d59e-4c36-ca7b-aa3686e4b61a"
      },
      "source": [
        "dados_copia"
      ],
      "execution_count": 77,
      "outputs": [
        {
          "output_type": "execute_result",
          "data": {
            "text/plain": [
              "[1, 2, 3, 4, 5]"
            ]
          },
          "metadata": {},
          "execution_count": 77
        }
      ]
    },
    {
      "cell_type": "code",
      "metadata": {
        "colab": {
          "base_uri": "https://localhost:8080/"
        },
        "id": "fUrkg6U7BZlR",
        "outputId": "9f028e98-d640-4e33-ce17-dd63d00a6f48"
      },
      "source": [
        "dados"
      ],
      "execution_count": 78,
      "outputs": [
        {
          "output_type": "execute_result",
          "data": {
            "text/plain": [
              "[1, 2, 3, 4, 5]"
            ]
          },
          "metadata": {},
          "execution_count": 78
        }
      ]
    },
    {
      "cell_type": "markdown",
      "metadata": {
        "id": "C7dZUjUOBnvc"
      },
      "source": [
        "#**Instrução For**"
      ]
    },
    {
      "cell_type": "code",
      "metadata": {
        "colab": {
          "base_uri": "https://localhost:8080/"
        },
        "id": "e4-sX0_FBboC",
        "outputId": "1a2bd3e2-dc76-4809-ef95-56bac322f591"
      },
      "source": [
        "acessorios"
      ],
      "execution_count": 79,
      "outputs": [
        {
          "output_type": "execute_result",
          "data": {
            "text/plain": [
              "['Ar condicionado', 'Piloto automático', 'Travas elétricas']"
            ]
          },
          "metadata": {},
          "execution_count": 79
        }
      ]
    },
    {
      "cell_type": "code",
      "metadata": {
        "colab": {
          "base_uri": "https://localhost:8080/"
        },
        "id": "F3SisVi-B0Cb",
        "outputId": "546ec4e2-bfb4-49a5-fd23-07c0859e0185"
      },
      "source": [
        "for item in acessorios:\n",
        "  print(item)"
      ],
      "execution_count": 81,
      "outputs": [
        {
          "output_type": "stream",
          "text": [
            "Ar condicionado\n",
            "Piloto automático\n",
            "Travas elétricas\n"
          ],
          "name": "stdout"
        }
      ]
    },
    {
      "cell_type": "code",
      "metadata": {
        "colab": {
          "base_uri": "https://localhost:8080/"
        },
        "id": "qCsZEZ1rCH18",
        "outputId": "45664123-5ef9-47d6-c13d-a95844d329f8"
      },
      "source": [
        "range (10)"
      ],
      "execution_count": 82,
      "outputs": [
        {
          "output_type": "execute_result",
          "data": {
            "text/plain": [
              "range(0, 10)"
            ]
          },
          "metadata": {},
          "execution_count": 82
        }
      ]
    },
    {
      "cell_type": "code",
      "metadata": {
        "colab": {
          "base_uri": "https://localhost:8080/"
        },
        "id": "I0J6tRccCbN_",
        "outputId": "fc432839-2648-4661-fc40-9553cecf9207"
      },
      "source": [
        "list(range (10))"
      ],
      "execution_count": 83,
      "outputs": [
        {
          "output_type": "execute_result",
          "data": {
            "text/plain": [
              "[0, 1, 2, 3, 4, 5, 6, 7, 8, 9]"
            ]
          },
          "metadata": {},
          "execution_count": 83
        }
      ]
    },
    {
      "cell_type": "code",
      "metadata": {
        "colab": {
          "base_uri": "https://localhost:8080/"
        },
        "id": "iUbjds8cCh4H",
        "outputId": "e6ec555e-4718-48b9-b5a6-e3ccf3b2a386"
      },
      "source": [
        "for i in range (10):\n",
        "  print (i ** 2)"
      ],
      "execution_count": 86,
      "outputs": [
        {
          "output_type": "stream",
          "text": [
            "0\n",
            "1\n",
            "4\n",
            "9\n",
            "16\n",
            "25\n",
            "36\n",
            "49\n",
            "64\n",
            "81\n"
          ],
          "name": "stdout"
        }
      ]
    },
    {
      "cell_type": "code",
      "metadata": {
        "colab": {
          "base_uri": "https://localhost:8080/"
        },
        "id": "NqZ-0gexC0Dl",
        "outputId": "61cdac68-64e0-47a1-df4c-c151e145f2ac"
      },
      "source": [
        "quadrado = []\n",
        "for i in range (10):\n",
        "  quadrado.append(i ** 2)\n",
        "\n",
        "quadrado"
      ],
      "execution_count": 88,
      "outputs": [
        {
          "output_type": "execute_result",
          "data": {
            "text/plain": [
              "[0, 1, 4, 9, 16, 25, 36, 49, 64, 81]"
            ]
          },
          "metadata": {},
          "execution_count": 88
        }
      ]
    },
    {
      "cell_type": "code",
      "metadata": {
        "colab": {
          "base_uri": "https://localhost:8080/"
        },
        "id": "wLd4RAndDVEY",
        "outputId": "ba3c27b5-1ed0-4517-da7b-42165c01e4a1"
      },
      "source": [
        "[i ** 2 for i in range (10)] #list comprehensions"
      ],
      "execution_count": 90,
      "outputs": [
        {
          "output_type": "execute_result",
          "data": {
            "text/plain": [
              "[0, 1, 4, 9, 16, 25, 36, 49, 64, 81]"
            ]
          },
          "metadata": {},
          "execution_count": 90
        }
      ]
    },
    {
      "cell_type": "markdown",
      "metadata": {
        "id": "m6YmNNLXD9Rp"
      },
      "source": [
        "#**Loops aninhados (for dentro de for)**"
      ]
    },
    {
      "cell_type": "code",
      "metadata": {
        "id": "LLlPsq3DDlmT"
      },
      "source": [
        "dados = [\n",
        " ['rodas de liga', 'travas eletricas', 'piloto automatico', 'banco de couro', 'ar condicionado','sensor de estacionamento', 'sensor crepuscular'],\n",
        " ['central multimidia', 'teto panoramico', 'freios ABS', 'banco de couro', 'painel digital'],\n",
        " ['piloto automatico', 'controle de estabilidade', 'freios ABS', 'banco de couro', 'sensor crepuscular']\n",
        "]"
      ],
      "execution_count": 98,
      "outputs": []
    },
    {
      "cell_type": "code",
      "metadata": {
        "colab": {
          "base_uri": "https://localhost:8080/"
        },
        "id": "374tzya5E-O-",
        "outputId": "90b86bbe-ef60-4f5c-f9c7-38b27f3d942f"
      },
      "source": [
        "dados"
      ],
      "execution_count": 99,
      "outputs": [
        {
          "output_type": "execute_result",
          "data": {
            "text/plain": [
              "[['rodas de liga',\n",
              "  'travas eletricas',\n",
              "  'piloto automatico',\n",
              "  'banco de couro',\n",
              "  'ar condicionado',\n",
              "  'sensor de estacionamento',\n",
              "  'sensor crepuscular'],\n",
              " ['central multimidia',\n",
              "  'teto panoramico',\n",
              "  'freios ABS',\n",
              "  'banco de couro',\n",
              "  'painel digital'],\n",
              " ['piloto automatico',\n",
              "  'controle de estabilidade',\n",
              "  'freios ABS',\n",
              "  'banco de couro',\n",
              "  'sensor crepuscular']]"
            ]
          },
          "metadata": {},
          "execution_count": 99
        }
      ]
    },
    {
      "cell_type": "code",
      "metadata": {
        "colab": {
          "base_uri": "https://localhost:8080/"
        },
        "id": "FvbAbYucFeMr",
        "outputId": "b363588f-a617-4d51-f009-aa9e8d618411"
      },
      "source": [
        "for lista in dados: \n",
        "  print(lista)"
      ],
      "execution_count": 100,
      "outputs": [
        {
          "output_type": "stream",
          "text": [
            "['rodas de liga', 'travas eletricas', 'piloto automatico', 'banco de couro', 'ar condicionado', 'sensor de estacionamento', 'sensor crepuscular']\n",
            "['central multimidia', 'teto panoramico', 'freios ABS', 'banco de couro', 'painel digital']\n",
            "['piloto automatico', 'controle de estabilidade', 'freios ABS', 'banco de couro', 'sensor crepuscular']\n"
          ],
          "name": "stdout"
        }
      ]
    },
    {
      "cell_type": "code",
      "metadata": {
        "colab": {
          "base_uri": "https://localhost:8080/"
        },
        "id": "7g2Z_R8GFozl",
        "outputId": "c8421207-b6ff-4f1a-d53e-fe8581168dd2"
      },
      "source": [
        "for lista in dados: \n",
        "  for item in lista:\n",
        "    print(item)"
      ],
      "execution_count": 101,
      "outputs": [
        {
          "output_type": "stream",
          "text": [
            "rodas de liga\n",
            "travas eletricas\n",
            "piloto automatico\n",
            "banco de couro\n",
            "ar condicionado\n",
            "sensor de estacionamento\n",
            "sensor crepuscular\n",
            "central multimidia\n",
            "teto panoramico\n",
            "freios ABS\n",
            "banco de couro\n",
            "painel digital\n",
            "piloto automatico\n",
            "controle de estabilidade\n",
            "freios ABS\n",
            "banco de couro\n",
            "sensor crepuscular\n"
          ],
          "name": "stdout"
        }
      ]
    },
    {
      "cell_type": "code",
      "metadata": {
        "colab": {
          "base_uri": "https://localhost:8080/"
        },
        "id": "60oJGNpCF03Y",
        "outputId": "895aa8cf-7610-4a90-83cb-86bf8e5cb574"
      },
      "source": [
        "acessorios = []\n",
        "\n",
        "for lista in dados: \n",
        "  for item in lista:\n",
        "    acessorios.append(item)\n",
        "\n",
        "acessorios"
      ],
      "execution_count": 102,
      "outputs": [
        {
          "output_type": "execute_result",
          "data": {
            "text/plain": [
              "['rodas de liga',\n",
              " 'travas eletricas',\n",
              " 'piloto automatico',\n",
              " 'banco de couro',\n",
              " 'ar condicionado',\n",
              " 'sensor de estacionamento',\n",
              " 'sensor crepuscular',\n",
              " 'central multimidia',\n",
              " 'teto panoramico',\n",
              " 'freios ABS',\n",
              " 'banco de couro',\n",
              " 'painel digital',\n",
              " 'piloto automatico',\n",
              " 'controle de estabilidade',\n",
              " 'freios ABS',\n",
              " 'banco de couro',\n",
              " 'sensor crepuscular']"
            ]
          },
          "metadata": {},
          "execution_count": 102
        }
      ]
    },
    {
      "cell_type": "code",
      "metadata": {
        "colab": {
          "base_uri": "https://localhost:8080/"
        },
        "id": "AcsC4-k1GFRX",
        "outputId": "07ddd731-fc1e-4ea9-e1a0-53c3450884ed"
      },
      "source": [
        "set (acessorios)"
      ],
      "execution_count": 103,
      "outputs": [
        {
          "output_type": "execute_result",
          "data": {
            "text/plain": [
              "{'ar condicionado',\n",
              " 'banco de couro',\n",
              " 'central multimidia',\n",
              " 'controle de estabilidade',\n",
              " 'freios ABS',\n",
              " 'painel digital',\n",
              " 'piloto automatico',\n",
              " 'rodas de liga',\n",
              " 'sensor crepuscular',\n",
              " 'sensor de estacionamento',\n",
              " 'teto panoramico',\n",
              " 'travas eletricas'}"
            ]
          },
          "metadata": {},
          "execution_count": 103
        }
      ]
    },
    {
      "cell_type": "code",
      "metadata": {
        "colab": {
          "base_uri": "https://localhost:8080/"
        },
        "id": "gOvg1gkJGVXV",
        "outputId": "35b55c9a-1329-427b-8ba9-1c75c024be88"
      },
      "source": [
        "list(set(acessorios))"
      ],
      "execution_count": 104,
      "outputs": [
        {
          "output_type": "execute_result",
          "data": {
            "text/plain": [
              "['freios ABS',\n",
              " 'piloto automatico',\n",
              " 'sensor de estacionamento',\n",
              " 'ar condicionado',\n",
              " 'teto panoramico',\n",
              " 'banco de couro',\n",
              " 'central multimidia',\n",
              " 'controle de estabilidade',\n",
              " 'rodas de liga',\n",
              " 'travas eletricas',\n",
              " 'painel digital',\n",
              " 'sensor crepuscular']"
            ]
          },
          "metadata": {},
          "execution_count": 104
        }
      ]
    },
    {
      "cell_type": "code",
      "metadata": {
        "colab": {
          "base_uri": "https://localhost:8080/"
        },
        "id": "lWtPtVb1Gb36",
        "outputId": "6490aaa6-af53-4c54-d35d-99e163ebd079"
      },
      "source": [
        "#list comprehensions\n",
        "[item for lista in dados for item in lista]"
      ],
      "execution_count": 105,
      "outputs": [
        {
          "output_type": "execute_result",
          "data": {
            "text/plain": [
              "['rodas de liga',\n",
              " 'travas eletricas',\n",
              " 'piloto automatico',\n",
              " 'banco de couro',\n",
              " 'ar condicionado',\n",
              " 'sensor de estacionamento',\n",
              " 'sensor crepuscular',\n",
              " 'central multimidia',\n",
              " 'teto panoramico',\n",
              " 'freios ABS',\n",
              " 'banco de couro',\n",
              " 'painel digital',\n",
              " 'piloto automatico',\n",
              " 'controle de estabilidade',\n",
              " 'freios ABS',\n",
              " 'banco de couro',\n",
              " 'sensor crepuscular']"
            ]
          },
          "metadata": {},
          "execution_count": 105
        }
      ]
    },
    {
      "cell_type": "code",
      "metadata": {
        "colab": {
          "base_uri": "https://localhost:8080/"
        },
        "id": "UnrhzdokG0tY",
        "outputId": "b081708b-4d94-48bd-c953-ef7e26f19f52"
      },
      "source": [
        "list(set([item for lista in dados for item in lista]))"
      ],
      "execution_count": 106,
      "outputs": [
        {
          "output_type": "execute_result",
          "data": {
            "text/plain": [
              "['freios ABS',\n",
              " 'piloto automatico',\n",
              " 'sensor de estacionamento',\n",
              " 'ar condicionado',\n",
              " 'teto panoramico',\n",
              " 'banco de couro',\n",
              " 'central multimidia',\n",
              " 'controle de estabilidade',\n",
              " 'rodas de liga',\n",
              " 'travas eletricas',\n",
              " 'painel digital',\n",
              " 'sensor crepuscular']"
            ]
          },
          "metadata": {},
          "execution_count": 106
        }
      ]
    },
    {
      "cell_type": "code",
      "metadata": {
        "id": "QVQ0kDiCG7vw"
      },
      "source": [
        "dados = [ \n",
        "    ['A', 'B', 'C'],\n",
        "    ['D', 'E', 'F'],\n",
        "    ['G', 'H', 'I']\n",
        "]"
      ],
      "execution_count": 107,
      "outputs": []
    },
    {
      "cell_type": "code",
      "metadata": {
        "colab": {
          "base_uri": "https://localhost:8080/"
        },
        "id": "Rt1oDxRjHQEO",
        "outputId": "d171e0b8-87e2-4f30-cbad-f9371e6da297"
      },
      "source": [
        "dados"
      ],
      "execution_count": 108,
      "outputs": [
        {
          "output_type": "execute_result",
          "data": {
            "text/plain": [
              "[['A', 'B', 'C'], ['D', 'E', 'F'], ['G', 'H', 'I']]"
            ]
          },
          "metadata": {},
          "execution_count": 108
        }
      ]
    },
    {
      "cell_type": "code",
      "metadata": {
        "colab": {
          "base_uri": "https://localhost:8080/"
        },
        "id": "6Q3CHTF_HS0h",
        "outputId": "b9887436-54e8-4e2b-83bc-fd7d0dd8d39b"
      },
      "source": [
        "result = []\n",
        "for lista in dados:\n",
        "    for item in lista:\n",
        "        result.append(item)\n",
        "result"
      ],
      "execution_count": 109,
      "outputs": [
        {
          "output_type": "execute_result",
          "data": {
            "text/plain": [
              "['A', 'B', 'C', 'D', 'E', 'F', 'G', 'H', 'I']"
            ]
          },
          "metadata": {},
          "execution_count": 109
        }
      ]
    },
    {
      "cell_type": "code",
      "metadata": {
        "colab": {
          "base_uri": "https://localhost:8080/"
        },
        "id": "VKL-tkiRHTm4",
        "outputId": "4ed93a75-0c72-49cf-d65b-acd78ef8bbba"
      },
      "source": [
        "result_2 = []\n",
        "for lista in dados:\n",
        "    result_2 += lista\n",
        "result_2"
      ],
      "execution_count": 110,
      "outputs": [
        {
          "output_type": "execute_result",
          "data": {
            "text/plain": [
              "['A', 'B', 'C', 'D', 'E', 'F', 'G', 'H', 'I']"
            ]
          },
          "metadata": {},
          "execution_count": 110
        }
      ]
    },
    {
      "cell_type": "code",
      "metadata": {
        "colab": {
          "base_uri": "https://localhost:8080/"
        },
        "id": "u0CYOwEHHXIB",
        "outputId": "a32069d9-f8c1-4117-83fb-839bd0d4cb43"
      },
      "source": [
        "[item for lista in dados for item in lista]"
      ],
      "execution_count": 111,
      "outputs": [
        {
          "output_type": "execute_result",
          "data": {
            "text/plain": [
              "['A', 'B', 'C', 'D', 'E', 'F', 'G', 'H', 'I']"
            ]
          },
          "metadata": {},
          "execution_count": 111
        }
      ]
    },
    {
      "cell_type": "markdown",
      "metadata": {
        "id": "E7McKUzzHfgy"
      },
      "source": [
        "#**Instrução If**"
      ]
    },
    {
      "cell_type": "code",
      "metadata": {
        "colab": {
          "base_uri": "https://localhost:8080/"
        },
        "id": "dfiNETv6Hayo",
        "outputId": "16bb267e-3efc-493a-9137-e3d9e15e20ce"
      },
      "source": [
        "dados = [\n",
        "    ['jeta', 2003, False],\n",
        "    ['passat', 1991, False],\n",
        "    ['cross', 1990, False],\n",
        "    ['DS50', 2019, True],\n",
        "    ['A5', 2019, True]\n",
        "]\n",
        "\n",
        "dados"
      ],
      "execution_count": 112,
      "outputs": [
        {
          "output_type": "execute_result",
          "data": {
            "text/plain": [
              "[['jeta', 2003, False],\n",
              " ['passat', 1991, False],\n",
              " ['cross', 1990, False],\n",
              " ['DS50', 2019, True],\n",
              " ['A5', 2019, True]]"
            ]
          },
          "metadata": {},
          "execution_count": 112
        }
      ]
    },
    {
      "cell_type": "code",
      "metadata": {
        "colab": {
          "base_uri": "https://localhost:8080/"
        },
        "id": "U32PGuulIM_G",
        "outputId": "99cd3818-2787-4049-9558-d1fd46c79536"
      },
      "source": [
        "for lista in dados:\n",
        "  print(lista)"
      ],
      "execution_count": 113,
      "outputs": [
        {
          "output_type": "stream",
          "text": [
            "['jeta', 2003, False]\n",
            "['passat', 1991, False]\n",
            "['cross', 1990, False]\n",
            "['DS50', 2019, True]\n",
            "['A5', 2019, True]\n"
          ],
          "name": "stdout"
        }
      ]
    },
    {
      "cell_type": "code",
      "metadata": {
        "colab": {
          "base_uri": "https://localhost:8080/"
        },
        "id": "zhdSb4tGIhE7",
        "outputId": "106a862d-522e-45d4-a3bc-de67a6d6a2ed"
      },
      "source": [
        "for lista in dados:\n",
        "  print(lista[2])"
      ],
      "execution_count": 114,
      "outputs": [
        {
          "output_type": "stream",
          "text": [
            "False\n",
            "False\n",
            "False\n",
            "True\n",
            "True\n"
          ],
          "name": "stdout"
        }
      ]
    },
    {
      "cell_type": "code",
      "metadata": {
        "colab": {
          "base_uri": "https://localhost:8080/"
        },
        "id": "45g2gIANIp_Z",
        "outputId": "b9017e76-951b-4eaf-e7da-4b90fa7d1889"
      },
      "source": [
        "for lista in dados:\n",
        "  if (lista[2] == True):\n",
        "    print(lista)"
      ],
      "execution_count": 118,
      "outputs": [
        {
          "output_type": "stream",
          "text": [
            "['DS50', 2019, True]\n",
            "['A5', 2019, True]\n"
          ],
          "name": "stdout"
        }
      ]
    },
    {
      "cell_type": "code",
      "metadata": {
        "colab": {
          "base_uri": "https://localhost:8080/"
        },
        "id": "nfEkmMw1IzEF",
        "outputId": "6716a7ae-32f6-42ef-dfff-d673a6dbfe92"
      },
      "source": [
        "zero_km_Y = []\n",
        "\n",
        "for lista in dados:\n",
        "  if (lista[2] == True):\n",
        "    zero_km_Y.append(lista)\n",
        "\n",
        "zero_km_Y"
      ],
      "execution_count": 121,
      "outputs": [
        {
          "output_type": "execute_result",
          "data": {
            "text/plain": [
              "[['DS50', 2019, True], ['A5', 2019, True]]"
            ]
          },
          "metadata": {},
          "execution_count": 121
        }
      ]
    },
    {
      "cell_type": "code",
      "metadata": {
        "colab": {
          "base_uri": "https://localhost:8080/"
        },
        "id": "5oJJ9y7tJNcx",
        "outputId": "ec980247-a201-4b78-b4c9-58062f3a6be8"
      },
      "source": [
        "zero_km_N = []\n",
        "\n",
        "for lista in dados:\n",
        "  if (lista[2] == False):\n",
        "    zero_km_N.append(lista)\n",
        "\n",
        "zero_km_N"
      ],
      "execution_count": 122,
      "outputs": [
        {
          "output_type": "execute_result",
          "data": {
            "text/plain": [
              "[['jeta', 2003, False], ['passat', 1991, False], ['cross', 1990, False]]"
            ]
          },
          "metadata": {},
          "execution_count": 122
        }
      ]
    },
    {
      "cell_type": "code",
      "metadata": {
        "colab": {
          "base_uri": "https://localhost:8080/"
        },
        "id": "QhXfAcQgJU6D",
        "outputId": "b25c333b-5a48-412a-ab29-9529ec2c2bfb"
      },
      "source": [
        "#list comprehensions\n",
        "\n",
        "[lista for lista in dados if lista [2] == True]"
      ],
      "execution_count": 123,
      "outputs": [
        {
          "output_type": "execute_result",
          "data": {
            "text/plain": [
              "[['DS50', 2019, True], ['A5', 2019, True]]"
            ]
          },
          "metadata": {},
          "execution_count": 123
        }
      ]
    },
    {
      "cell_type": "code",
      "metadata": {
        "colab": {
          "base_uri": "https://localhost:8080/"
        },
        "id": "T23L8KrHKAW6",
        "outputId": "20c497c1-4a2c-42fa-e8e6-583b2c791cab"
      },
      "source": [
        "ano = 2003\n",
        "if (ano == 2003):\n",
        "    print('OK')"
      ],
      "execution_count": 128,
      "outputs": [
        {
          "output_type": "stream",
          "text": [
            "OK\n"
          ],
          "name": "stdout"
        }
      ]
    },
    {
      "cell_type": "markdown",
      "metadata": {
        "id": "YPVU6ykLJzt5"
      },
      "source": [
        "#**If-else e If-elif-else**"
      ]
    },
    {
      "cell_type": "code",
      "metadata": {
        "colab": {
          "base_uri": "https://localhost:8080/"
        },
        "id": "Opo9FNElJwk-",
        "outputId": "f7042b72-a514-4267-8743-0c0dee204140"
      },
      "source": [
        "dados"
      ],
      "execution_count": 129,
      "outputs": [
        {
          "output_type": "execute_result",
          "data": {
            "text/plain": [
              "[['jeta', 2003, False],\n",
              " ['passat', 1991, False],\n",
              " ['cross', 1990, False],\n",
              " ['DS50', 2019, True],\n",
              " ['A5', 2019, True]]"
            ]
          },
          "metadata": {},
          "execution_count": 129
        }
      ]
    },
    {
      "cell_type": "code",
      "metadata": {
        "id": "Qy9I-llZKgH2"
      },
      "source": [
        "zero_km_N, zero_km_Y = [], []\n",
        "\n",
        "for lista in dados:\n",
        "  if (lista[2] == True):\n",
        "    zero_km_Y.append(lista)\n",
        "  else:\n",
        "    zero_km_N.append(lista)"
      ],
      "execution_count": 130,
      "outputs": []
    },
    {
      "cell_type": "code",
      "metadata": {
        "colab": {
          "base_uri": "https://localhost:8080/"
        },
        "id": "qFyPMeIwLKmn",
        "outputId": "89d92fbe-df64-4234-ca55-b427be3c65b9"
      },
      "source": [
        "zero_km_N"
      ],
      "execution_count": 131,
      "outputs": [
        {
          "output_type": "execute_result",
          "data": {
            "text/plain": [
              "[['jeta', 2003, False], ['passat', 1991, False], ['cross', 1990, False]]"
            ]
          },
          "metadata": {},
          "execution_count": 131
        }
      ]
    },
    {
      "cell_type": "code",
      "metadata": {
        "colab": {
          "base_uri": "https://localhost:8080/"
        },
        "id": "ajZ1jIC6LMtE",
        "outputId": "fd1c3b52-ef02-43da-f104-b886338267eb"
      },
      "source": [
        "zero_km_Y"
      ],
      "execution_count": 132,
      "outputs": [
        {
          "output_type": "execute_result",
          "data": {
            "text/plain": [
              "[['DS50', 2019, True], ['A5', 2019, True]]"
            ]
          },
          "metadata": {},
          "execution_count": 132
        }
      ]
    },
    {
      "cell_type": "code",
      "metadata": {
        "id": "AeW7foXhLOr0"
      },
      "source": [
        "#AND\n",
        "#True and True = True\n",
        "#True and False = False\n",
        "#False and True = False\n",
        "#False and False = False"
      ],
      "execution_count": null,
      "outputs": []
    },
    {
      "cell_type": "code",
      "metadata": {
        "id": "UTMcDJV8MEls"
      },
      "source": [
        "#OR\n",
        "# True or True = True\n",
        "# True or False = True\n",
        "# False or True = True\n",
        "# False or False = False"
      ],
      "execution_count": null,
      "outputs": []
    },
    {
      "cell_type": "code",
      "metadata": {
        "id": "3IGkbleoMX_-"
      },
      "source": [
        "A, B, C = [], [], []\n",
        "\n",
        "for lista in dados: \n",
        "  if (lista[1] <= 2000):\n",
        "    A.append(lista)\n",
        "  elif (lista[1] > 2000 and lista[1 <=2010]):\n",
        "    B.append(lista)\n",
        "  else:\n",
        "    C.append(lista)"
      ],
      "execution_count": 133,
      "outputs": []
    },
    {
      "cell_type": "code",
      "metadata": {
        "colab": {
          "base_uri": "https://localhost:8080/"
        },
        "id": "XM5JRo-iM82P",
        "outputId": "1ef87b06-07cb-48c7-b743-da7d8bed5db5"
      },
      "source": [
        "A"
      ],
      "execution_count": 134,
      "outputs": [
        {
          "output_type": "execute_result",
          "data": {
            "text/plain": [
              "[['passat', 1991, False], ['cross', 1990, False]]"
            ]
          },
          "metadata": {},
          "execution_count": 134
        }
      ]
    },
    {
      "cell_type": "code",
      "metadata": {
        "colab": {
          "base_uri": "https://localhost:8080/"
        },
        "id": "_iQwAB3UM-8b",
        "outputId": "b1df5b43-8866-4daa-ce6d-d924339a5064"
      },
      "source": [
        "B"
      ],
      "execution_count": 135,
      "outputs": [
        {
          "output_type": "execute_result",
          "data": {
            "text/plain": [
              "[['jeta', 2003, False], ['DS50', 2019, True], ['A5', 2019, True]]"
            ]
          },
          "metadata": {},
          "execution_count": 135
        }
      ]
    },
    {
      "cell_type": "code",
      "metadata": {
        "colab": {
          "base_uri": "https://localhost:8080/"
        },
        "id": "EpQUbOEGM_qb",
        "outputId": "6ca6cdd4-fd46-4e80-860d-3db8b5d81851"
      },
      "source": [
        "C"
      ],
      "execution_count": 136,
      "outputs": [
        {
          "output_type": "execute_result",
          "data": {
            "text/plain": [
              "[]"
            ]
          },
          "metadata": {},
          "execution_count": 136
        }
      ]
    },
    {
      "cell_type": "code",
      "metadata": {
        "id": "lNWfXrnUNATm"
      },
      "source": [
        ""
      ],
      "execution_count": null,
      "outputs": []
    }
  ]
}